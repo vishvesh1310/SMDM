{
 "cells": [
  {
   "cell_type": "code",
   "execution_count": 222,
   "metadata": {
    "collapsed": true
   },
   "outputs": [],
   "source": [
    "import json\n",
    "\n",
    "import matplotlib.pyplot as plt\n",
    "\n",
    "from wapy.api import Wapy\n",
    "from pprint import pprint\n",
    "from watson_developer_cloud import ToneAnalyzerV3\n",
    "from tkinter import *\n",
    "from tkinter import Tk, Label, Button\n",
    "import tkinter as tk\n"
   ]
  },
  {
   "cell_type": "code",
   "execution_count": 223,
   "metadata": {
    "collapsed": true
   },
   "outputs": [],
   "source": [
    "def pie_chart(positive,negative,nuetral):\n",
    "    plt.figure()\n",
    "    labels = ['Positive','Negative','Nuetral']\n",
    "    values = [positive,negative,nuetral]\n",
    "    colors = ['green','red','grey']\n",
    "    plt.pie(values, labels=labels,colors=colors,autopct='%.2f')\n",
    "    plt.axis('equal')\n",
    "    plt.tight_layout()\n",
    "    plt.show()\n",
    "    return;"
   ]
  },
  {
   "cell_type": "code",
   "execution_count": 224,
   "metadata": {
    "collapsed": true
   },
   "outputs": [],
   "source": [
    "def sentiment_analysis(prod_name):\n",
    "    print(prod_name)\n",
    "    tone_analyzer = ToneAnalyzerV3(\n",
    "    version ='2017-09-21',\n",
    "    username ='ef70c79e-425a-4b9c-8284-82dd095aacd3',\n",
    "    password ='bHH8YNNK2GI2'\n",
    "    )\n",
    "    wapy = Wapy('3ut4a3gjtg8n935snz73mgjj')\n",
    "    positive = 0\n",
    "    nuetral = 0\n",
    "    negative = 0\n",
    "    products = wapy.search(prod_name)\n",
    "    for k in products:\n",
    "        a = (k.item_id)\n",
    "        reviews = wapy.product_reviews(str(a))\n",
    "        for rev in reviews:\n",
    "            c=(rev.review)\n",
    "            text = str(c)\n",
    "            content_type = 'application/json'\n",
    "            tone = tone_analyzer.tone({\"text\": text},content_type)\n",
    "            json.dumps(tone, indent=3)\n",
    "            if(len(tone['document_tone']['tones'])>0):\n",
    "                #(tone['document_tone']['tones'][0]['score'])\n",
    "                if (tone['document_tone']['tones'][0]['score']) > 0.74:\n",
    "                    positive = positive + 1\n",
    "                elif (tone['document_tone']['tones'][0]['score']) > 0.60 and (tone['document_tone']['tones'][0]['score']) < 0.75:\n",
    "                    nuetral = nuetral + 1\n",
    "                else:\n",
    "                    negative = negative + 1\n",
    "    pie_chart(positive,negative,nuetral)\n",
    "    return;\n",
    "        "
   ]
  },
  {
   "cell_type": "code",
   "execution_count": 225,
   "metadata": {
    "collapsed": true
   },
   "outputs": [],
   "source": [
    "def gui():\n",
    "    window  = Tk()\n",
    "    entryb=StringVar()\n",
    "    window.configure(background=\"#ff4500\")\n",
    "    window.title(\"Analysis\")\n",
    "    Label(window,text=\"Product Name:\", bg=\"#ffff33\").grid(row=0, padx = 10, sticky = W)\n",
    "    en=Entry(window, textvariable=entryb).grid(row=0, column = 1)\n",
    "    \n",
    "    #e = Entry(window)\n",
    "    #e.focus()\n",
    "    #print(e)\n",
    "    Button(window, text =\"Search\",command = lambda:sentiment_analysis(entryb.get())).grid(row=3, column = 1, pady = 10)\n",
    "       \n",
    "    window.mainloop()\n",
    "    return;"
   ]
  },
  {
   "cell_type": "code",
   "execution_count": 226,
   "metadata": {},
   "outputs": [
    {
     "name": "stdout",
     "output_type": "stream",
     "text": [
      "iphone 6\n"
     ]
    },
    {
     "data": {
      "image/png": "[encoded data removed]",
      "text/plain": [
       "<matplotlib.figure.Figure at 0x1d997282438>"
      ]
     },
     "metadata": {},
     "output_type": "display_data"
    },
    {
     "name": "stdout",
     "output_type": "stream",
     "text": [
      "samsung s7\n"
     ]
    },
    {
     "data": {
      "image/png": "[encoded data removed]",
      "text/plain": [
       "<matplotlib.figure.Figure at 0x1d996e72eb8>"
      ]
     },
     "metadata": {},
     "output_type": "display_data"
    }
   ],
   "source": [
    "gui()"
   ]
  },
  {
   "cell_type": "code",
   "execution_count": null,
   "metadata": {
    "collapsed": true
   },
   "outputs": [],
   "source": []
  },
  {
   "cell_type": "code",
   "execution_count": null,
   "metadata": {
    "collapsed": true
   },
   "outputs": [],
   "source": []
  }
 ],
 "metadata": {
  "kernelspec": {
   "display_name": "Python 3",
   "language": "python",
   "name": "python3"
  },
  "language_info": {
   "codemirror_mode": {
    "name": "ipython",
    "version": 3
   },
   "file_extension": ".py",
   "mimetype": "text/x-python",
   "name": "python",
   "nbconvert_exporter": "python",
   "pygments_lexer": "ipython3",
   "version": "3.6.3"
  }
 },
 "nbformat": 4,
 "nbformat_minor": 2
}
